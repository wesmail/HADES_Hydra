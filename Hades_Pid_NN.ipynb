{
  "nbformat": 4,
  "nbformat_minor": 0,
  "metadata": {
    "colab": {
      "name": "Hades_Pid_NN.ipynb",
      "provenance": [],
      "authorship_tag": "ABX9TyOQWZBIYjf4NCiYMQ7A3Yi5",
      "include_colab_link": true
    },
    "kernelspec": {
      "name": "python3",
      "display_name": "Python 3"
    },
    "language_info": {
      "name": "python"
    },
    "accelerator": "GPU"
  },
  "cells": [
    {
      "cell_type": "markdown",
      "metadata": {
        "id": "view-in-github",
        "colab_type": "text"
      },
      "source": [
        "<a href=\"https://colab.research.google.com/github/wesmail/HADES_Hydra/blob/pid/Hades_Pid_NN.ipynb\" target=\"_parent\"><img src=\"https://colab.research.google.com/assets/colab-badge.svg\" alt=\"Open In Colab\"/></a>"
      ]
    },
    {
      "cell_type": "code",
      "execution_count": 1,
      "metadata": {
        "id": "kXsVLisQuk24"
      },
      "outputs": [],
      "source": [
        "import torch\n",
        "import torch.nn.functional as F\n",
        "import numpy as np\n",
        "import pandas as pd\n",
        "import seaborn as sns\n",
        "import matplotlib.pyplot as plt\n",
        "from torch.utils.data import Dataset, DataLoader\n",
        "from sklearn.metrics import confusion_matrix\n",
        "from sklearn.metrics import roc_curve, auc\n",
        "from sklearn.preprocessing import label_binarize"
      ]
    },
    {
      "cell_type": "code",
      "source": [
        "device = torch.device('cuda:0' if torch.cuda.is_available() else 'cpu')\n",
        "print (device)"
      ],
      "metadata": {
        "colab": {
          "base_uri": "https://localhost:8080/"
        },
        "id": "7SoSCEq2vRQD",
        "outputId": "44392e68-7fdb-44ee-fe1c-b8bc7a75acea"
      },
      "execution_count": 2,
      "outputs": [
        {
          "output_type": "stream",
          "name": "stdout",
          "text": [
            "cuda:0\n"
          ]
        }
      ]
    },
    {
      "cell_type": "code",
      "source": [
        "class PidDataSet(Dataset):\n",
        "    '''\n",
        "    Create Hades Pid Dataset\n",
        "    '''\n",
        "    def __init__(self, directory, key='simu'):\n",
        "        '''\n",
        "        Parameters:\n",
        "        directory (str): path where the csv is stored\n",
        "        start     (int): start event to read\n",
        "        end       (int): last event to read  \n",
        "        '''        \n",
        "        self.__path        = directory\n",
        "        self.__key         = key\n",
        "        self.__events      = self.__load_events()\n",
        "        self.__X, self.__y = self.__items()\n",
        "    \n",
        "    def __load_events(self, verbose=False):\n",
        "        '''\n",
        "        Returns:\n",
        "        list: Returning a list of dataframes        \n",
        "        '''\n",
        "        return pd.read_csv(self.__path, compression='zip')\n",
        "\n",
        "    def __len__(self):\n",
        "        return len(self.__X)\n",
        "    \n",
        "    def __items(self):\n",
        "        df = self.__events\n",
        "        X  = None\n",
        "        y  = None\n",
        "        if self.__key == 'simu':            \n",
        "            data = df[['momentum','theta','phi','mdcdedx','tofdedx','distmeta','rectof','pid']].to_numpy()\n",
        "            X, y = data[:,0:-1], data[:,-1]\n",
        "            \n",
        "        elif self.__key == 'data':\n",
        "            data = df[['momentum','theta','phi','mdcdedx','tofdedx','distmeta','rectof']].to_numpy()\n",
        "            X, y = data, data\n",
        "            \n",
        "        return X, y\n",
        "\n",
        "    \n",
        "    def __getitem__(self, idx):       \n",
        "        return torch.FloatTensor(self.__X[idx]), torch.FloatTensor([self.__y[idx]])\n",
        "    \n",
        "    def getX(self):\n",
        "        return self.__X\n",
        "    \n",
        "    def gety(self):\n",
        "        return self.__y   \n",
        "    \n",
        "    def get(self):\n",
        "        '''\n",
        "        Get the event list.\n",
        "        '''\n",
        "        return self.__events        "
      ],
      "metadata": {
        "id": "J-V89Fj0xqZJ"
      },
      "execution_count": 3,
      "outputs": []
    },
    {
      "cell_type": "code",
      "source": [
        "path = 'https://raw.githubusercontent.com/wesmail/HADES_Hydra/pid/Files/'"
      ],
      "metadata": {
        "id": "eE8jONDUrbvB"
      },
      "execution_count": 4,
      "outputs": []
    },
    {
      "cell_type": "code",
      "source": [
        "# create data object for real data and simulations\n",
        "simu = PidDataSet(path+'simulations.csv', key='simu')\n",
        "data = PidDataSet(path+'data.csv', key='data')"
      ],
      "metadata": {
        "id": "3S6qJBcwrkhn"
      },
      "execution_count": 5,
      "outputs": []
    },
    {
      "cell_type": "code",
      "source": [
        "# batch_size\n",
        "batch_size = int(2*1024)\n",
        "\n",
        "# create mini-batches of data\n",
        "simuloader = DataLoader(simu, batch_size=batch_size, shuffle=True, drop_last=True)\n",
        "dataloader = DataLoader(data, batch_size=batch_size, shuffle=True, drop_last=True)"
      ],
      "metadata": {
        "id": "KmAsLpdIrsV0"
      },
      "execution_count": 6,
      "outputs": []
    },
    {
      "cell_type": "code",
      "source": [
        "# Auto-encoder model\n",
        "class Model(torch.nn.Module):\n",
        "    def __init__(self, dim=7, hidden_size=512, activation=torch.nn.Tanh, dorpout=0.5, n_classes=3):\n",
        "        super(Model, self).__init__()\n",
        "        self.encoder = torch.nn.Sequential(torch.nn.Linear(dim, hidden_size),\n",
        "                                     activation(),\n",
        "                                     torch.nn.Dropout(p=dorpout),\n",
        "                                     torch.nn.Linear(hidden_size, hidden_size//2),\n",
        "                                     activation(),\n",
        "                                     torch.nn.Dropout(p=dorpout),\n",
        "                                     torch.nn.Linear(hidden_size//2, hidden_size//4),\n",
        "                                     activation())\n",
        "        \n",
        "        self.decoder = torch.nn.Sequential(torch.nn.Linear(hidden_size//4, hidden_size//2),\n",
        "                                     activation(),\n",
        "                                     torch.nn.Dropout(p=dorpout),\n",
        "                                     torch.nn.Linear(hidden_size//2, hidden_size),\n",
        "                                     activation(),\n",
        "                                     torch.nn.Dropout(p=dorpout),                                     \n",
        "                                     torch.nn.Linear(hidden_size, dim))        \n",
        "        \n",
        "        self.output = torch.nn.Linear(hidden_size//4, n_classes)\n",
        "\n",
        "    def forward(self, x_data, x_simu):\n",
        "        hidden1 = self.encoder(x_data)\n",
        "        hidden2 = self.encoder(x_simu)\n",
        "        \n",
        "        output1 = self.decoder(hidden1) # real data\n",
        "        output2 = self.output(hidden2)  # simulations\n",
        "\n",
        "        return output1, F.log_softmax(output2, dim=1)\n",
        "\n",
        "    \n",
        "net = Model().to(device)\n",
        "print(net)    "
      ],
      "metadata": {
        "colab": {
          "base_uri": "https://localhost:8080/"
        },
        "id": "DpYxx0xUrsYk",
        "outputId": "07576d67-fa58-4dcc-e0b1-2f1629d0a176"
      },
      "execution_count": 7,
      "outputs": [
        {
          "output_type": "stream",
          "name": "stdout",
          "text": [
            "Model(\n",
            "  (encoder): Sequential(\n",
            "    (0): Linear(in_features=7, out_features=512, bias=True)\n",
            "    (1): Tanh()\n",
            "    (2): Dropout(p=0.5, inplace=False)\n",
            "    (3): Linear(in_features=512, out_features=256, bias=True)\n",
            "    (4): Tanh()\n",
            "    (5): Dropout(p=0.5, inplace=False)\n",
            "    (6): Linear(in_features=256, out_features=128, bias=True)\n",
            "    (7): Tanh()\n",
            "  )\n",
            "  (decoder): Sequential(\n",
            "    (0): Linear(in_features=128, out_features=256, bias=True)\n",
            "    (1): Tanh()\n",
            "    (2): Dropout(p=0.5, inplace=False)\n",
            "    (3): Linear(in_features=256, out_features=512, bias=True)\n",
            "    (4): Tanh()\n",
            "    (5): Dropout(p=0.5, inplace=False)\n",
            "    (6): Linear(in_features=512, out_features=7, bias=True)\n",
            "  )\n",
            "  (output): Linear(in_features=128, out_features=3, bias=True)\n",
            ")\n"
          ]
        }
      ]
    },
    {
      "cell_type": "code",
      "source": [
        "# learning rate\n",
        "lr = 1e-3\n",
        "# number of iterations\n",
        "kEpochs = 10\n",
        "# create an optimizer\n",
        "optimizer = torch.optim.Adam(net.parameters(), lr=lr)\n",
        "mse = torch.nn.MSELoss()\n",
        "cross_entropy = torch.nn.CrossEntropyLoss()\n",
        "\n",
        "# run the main training loop\n",
        "total_step = len(simuloader)\n",
        "for epoch in range(kEpochs):\n",
        "    correct = 0\n",
        "    total   = 0\n",
        "    for (i_batch, (X_simu, y_simu)), (_, (X_data, y_data)) in zip(enumerate(simuloader), enumerate(dataloader)):\n",
        "        X_simu = X_simu.to(device)\n",
        "        X_data = X_data.to(device)\n",
        "        \n",
        "        y_simu = y_simu.view(-1).long().to(device) # simulations labels (pi+:0, p:1, K+:2)\n",
        "\n",
        "        optimizer.zero_grad()\n",
        "        out_data, out_simu = net.forward(X_data, X_simu)\n",
        "        l_simu = cross_entropy(out_simu, y_simu) # labeled data loss (simulations)\n",
        "        l_data = mse(out_data, X_data)           # unlabeled data loss (real data)\n",
        "        \n",
        "        loss   = l_simu + l_data                 # add both losses\n",
        "        loss.backward()\n",
        "        optimizer.step()\n",
        "\n",
        "        correct = (torch.max(torch.exp(out_simu),1)[1]==y_simu).int().sum().item()/batch_size\n",
        "\n",
        "        if (i_batch+1) % 10 == 0:\n",
        "            print ('Epoch [{}/{}], Step [{}/{}], Loss: {:.4f}, Acc: {:.4f}'\\\n",
        "                   .format(epoch+1, kEpochs, i_batch+1, total_step, loss.item(), correct))"
      ],
      "metadata": {
        "colab": {
          "base_uri": "https://localhost:8080/"
        },
        "id": "PJhQO1cjtHLi",
        "outputId": "f402e79b-2039-4e25-8426-f67bb2d1bd1a"
      },
      "execution_count": 8,
      "outputs": [
        {
          "output_type": "stream",
          "name": "stderr",
          "text": [
            "/usr/local/lib/python3.7/dist-packages/ipykernel_launcher.py:43: UserWarning: Creating a tensor from a list of numpy.ndarrays is extremely slow. Please consider converting the list to a single numpy.ndarray with numpy.array() before converting to a tensor. (Triggered internally at  ../torch/csrc/utils/tensor_new.cpp:201.)\n"
          ]
        },
        {
          "output_type": "stream",
          "name": "stdout",
          "text": [
            "Epoch [1/10], Step [10/48], Loss: 145.7083, Acc: 0.3398\n",
            "Epoch [1/10], Step [20/48], Loss: 117.0868, Acc: 0.3472\n",
            "Epoch [1/10], Step [30/48], Loss: 138.6837, Acc: 0.3228\n",
            "Epoch [1/10], Step [40/48], Loss: 177.7335, Acc: 0.3208\n",
            "Epoch [2/10], Step [10/48], Loss: 121.8237, Acc: 0.3291\n",
            "Epoch [2/10], Step [20/48], Loss: 211.1378, Acc: 0.3354\n",
            "Epoch [2/10], Step [30/48], Loss: 106.1929, Acc: 0.3291\n",
            "Epoch [2/10], Step [40/48], Loss: 125.9029, Acc: 0.3418\n",
            "Epoch [3/10], Step [10/48], Loss: 134.6566, Acc: 0.3633\n",
            "Epoch [3/10], Step [20/48], Loss: 125.5181, Acc: 0.3867\n",
            "Epoch [3/10], Step [30/48], Loss: 167.5635, Acc: 0.3833\n",
            "Epoch [3/10], Step [40/48], Loss: 113.8840, Acc: 0.4189\n",
            "Epoch [4/10], Step [10/48], Loss: 252.9263, Acc: 0.5049\n",
            "Epoch [4/10], Step [20/48], Loss: 132.3691, Acc: 0.5850\n",
            "Epoch [4/10], Step [30/48], Loss: 136.6560, Acc: 0.6299\n",
            "Epoch [4/10], Step [40/48], Loss: 176.5973, Acc: 0.6284\n",
            "Epoch [5/10], Step [10/48], Loss: 134.1593, Acc: 0.7183\n",
            "Epoch [5/10], Step [20/48], Loss: 95.2785, Acc: 0.6870\n",
            "Epoch [5/10], Step [30/48], Loss: 115.7090, Acc: 0.5986\n",
            "Epoch [5/10], Step [40/48], Loss: 208.8147, Acc: 0.4521\n",
            "Epoch [6/10], Step [10/48], Loss: 170.9447, Acc: 0.5508\n",
            "Epoch [6/10], Step [20/48], Loss: 116.2798, Acc: 0.5776\n",
            "Epoch [6/10], Step [30/48], Loss: 111.5483, Acc: 0.5688\n",
            "Epoch [6/10], Step [40/48], Loss: 91.2282, Acc: 0.5854\n",
            "Epoch [7/10], Step [10/48], Loss: 70.7033, Acc: 0.5977\n",
            "Epoch [7/10], Step [20/48], Loss: 157.9358, Acc: 0.6104\n",
            "Epoch [7/10], Step [30/48], Loss: 68.8420, Acc: 0.6240\n",
            "Epoch [7/10], Step [40/48], Loss: 38.3567, Acc: 0.6216\n",
            "Epoch [8/10], Step [10/48], Loss: 190.8525, Acc: 0.6597\n",
            "Epoch [8/10], Step [20/48], Loss: 39.0708, Acc: 0.6709\n",
            "Epoch [8/10], Step [30/48], Loss: 39.1658, Acc: 0.6221\n",
            "Epoch [8/10], Step [40/48], Loss: 33.9970, Acc: 0.6699\n",
            "Epoch [9/10], Step [10/48], Loss: 41.6020, Acc: 0.6777\n",
            "Epoch [9/10], Step [20/48], Loss: 23.0323, Acc: 0.6733\n",
            "Epoch [9/10], Step [30/48], Loss: 117.6190, Acc: 0.7041\n",
            "Epoch [9/10], Step [40/48], Loss: 27.4563, Acc: 0.7046\n",
            "Epoch [10/10], Step [10/48], Loss: 65.5835, Acc: 0.7041\n",
            "Epoch [10/10], Step [20/48], Loss: 28.6151, Acc: 0.7231\n",
            "Epoch [10/10], Step [30/48], Loss: 18.3303, Acc: 0.7085\n",
            "Epoch [10/10], Step [40/48], Loss: 25.6711, Acc: 0.7397\n"
          ]
        }
      ]
    },
    {
      "cell_type": "code",
      "source": [
        "# testing phase\n",
        "model = net.cpu()\n",
        "model.eval()"
      ],
      "metadata": {
        "colab": {
          "base_uri": "https://localhost:8080/"
        },
        "id": "9VBOc8TWuL-Z",
        "outputId": "fba9038a-77a7-4d08-fa03-60a925ed59f9"
      },
      "execution_count": 9,
      "outputs": [
        {
          "output_type": "execute_result",
          "data": {
            "text/plain": [
              "Model(\n",
              "  (encoder): Sequential(\n",
              "    (0): Linear(in_features=7, out_features=512, bias=True)\n",
              "    (1): Tanh()\n",
              "    (2): Dropout(p=0.5, inplace=False)\n",
              "    (3): Linear(in_features=512, out_features=256, bias=True)\n",
              "    (4): Tanh()\n",
              "    (5): Dropout(p=0.5, inplace=False)\n",
              "    (6): Linear(in_features=256, out_features=128, bias=True)\n",
              "    (7): Tanh()\n",
              "  )\n",
              "  (decoder): Sequential(\n",
              "    (0): Linear(in_features=128, out_features=256, bias=True)\n",
              "    (1): Tanh()\n",
              "    (2): Dropout(p=0.5, inplace=False)\n",
              "    (3): Linear(in_features=256, out_features=512, bias=True)\n",
              "    (4): Tanh()\n",
              "    (5): Dropout(p=0.5, inplace=False)\n",
              "    (6): Linear(in_features=512, out_features=7, bias=True)\n",
              "  )\n",
              "  (output): Linear(in_features=128, out_features=3, bias=True)\n",
              ")"
            ]
          },
          "metadata": {},
          "execution_count": 9
        }
      ]
    },
    {
      "cell_type": "code",
      "source": [
        "def plot_confusion_matrix(model):\n",
        "    '''\n",
        "    function to plot the confusion matrix\n",
        "    '''\n",
        "    # quick and dirty check\n",
        "    X, ytrue = next(iter(simuloader))\n",
        "    ytrue = ytrue.view(-1).detach().cpu().numpy()\n",
        "    # make predictions 'yhat'\n",
        "    _, yhat = model.forward(X,X)\n",
        "    # select the largest output\n",
        "    yhat = (torch.max(torch.exp(yhat),1))[1].detach().cpu().numpy()\n",
        "    \n",
        "    # calculate the confusion matrix\n",
        "    cm = confusion_matrix(ytrue, yhat)\n",
        "    cm = (cm.astype('float') / cm.sum(axis=1))\n",
        "    \n",
        "    # plot the confusion matrix as a heatmap\n",
        "    sns.set(font_scale=1.5)\n",
        "    sns.heatmap(cm, square=True, annot=True, annot_kws={\"size\": 15}, cmap='Blues')\n",
        "    classes=['$\\pi^{+}$', '$p$', '$K^{+}$']\n",
        "    plt.xticks(np.arange(len(classes))+0.5, ('$\\pi^{+}$', '$p$', '$K^{+}$'),rotation=45)\n",
        "    plt.yticks(np.arange(len(classes))+0.5, ('$\\pi^{+}$', '$p$', '$K^{+}$'),rotation=45)\n",
        "    plt.xlabel('Predication', horizontalalignment = 'center',  fontsize=15)\n",
        "    plt.ylabel('True Species',  fontsize=15)\n",
        "    plt.tight_layout()\n",
        "\n",
        "def enable_dropout(m):\n",
        "    '''\n",
        "    enable dropout during inference\n",
        "    '''\n",
        "    for each_module in m.modules():\n",
        "        if each_module.__class__.__name__.startswith('Dropout'):\n",
        "            each_module.train()\n",
        "            \n",
        "def serialize_to_torchscript(network, name='model_cpp.pt'):\n",
        "    '''\n",
        "    save the trained model as a\n",
        "    torchscript model to load in\n",
        "    a C++ enviroment\n",
        "    '''\n",
        "    model = network.cpu()\n",
        "    model.eval()\n",
        "    #enable_dropout(model)\n",
        "    X, _ = next(iter(simuloader))\n",
        "    # run the tracing\n",
        "    traced_script_module = torch.jit.trace(model, (X, X))\n",
        "    # save the converted model\n",
        "    traced_script_module.save(name)\n",
        "\n",
        "def plot_roc_curve(model):\n",
        "    '''\n",
        "    function to plot the ROC curve\n",
        "    '''\n",
        "    # quick and dirty\n",
        "    X, ytrue = next(iter(simuloader))\n",
        "    _, yhat = model(X, X)\n",
        "    yhat = torch.exp(yhat).detach().numpy()\n",
        "    ytrue = label_binarize(ytrue, classes=[0, 1, 2])\n",
        "    n_classes = ytrue.shape[1]\n",
        "    \n",
        "    lw=2\n",
        "    fpr = dict()\n",
        "    tpr = dict()\n",
        "    roc_auc = dict()\n",
        "    for i in range(n_classes):\n",
        "        fpr[i], tpr[i], _ = roc_curve(ytrue[:, i], yhat[:, i])\n",
        "        roc_auc[i] = auc(fpr[i], tpr[i])\n",
        "        \n",
        "    plt.plot(fpr[1], tpr[1], color='yellowgreen', lw=lw, label='AUC for {0}   ( = {1:0.2f})'.format('$p$',roc_auc[1]))\n",
        "    plt.plot(fpr[0], tpr[0], color='blue', lw=lw, label='AUC for {0} ( = {1:0.2f})'.format('$\\pi^{+}$',roc_auc[0]))\n",
        "    plt.plot(fpr[2], tpr[2], color='red', lw=lw, label='AUC for {0} ( = {1:0.2f})'.format('$K^{+}$',roc_auc[2]))\n",
        "\n",
        "    plt.xlim([0.0, 0.5])\n",
        "    plt.ylim([0.5, 1.0])\n",
        "    plt.xlabel('False Positive Rate', fontsize=15)\n",
        "    plt.ylabel('True Positive Rate', fontsize=15)\n",
        "    plt.title('Receiver Operating Characteristic (ROC)')\n",
        "    plt.legend(loc='lower right', fontsize=15) \n",
        "    plt.xticks(fontsize=15)\n",
        "    plt.yticks(fontsize=15)\n",
        "    \n",
        "    plt.show()       "
      ],
      "metadata": {
        "id": "6FeLIi3ttnj6"
      },
      "execution_count": 10,
      "outputs": []
    },
    {
      "cell_type": "code",
      "source": [
        "# the confusion matrix\n",
        "plot_confusion_matrix(model)"
      ],
      "metadata": {
        "colab": {
          "base_uri": "https://localhost:8080/",
          "height": 280
        },
        "id": "u1ivB_5-uhfg",
        "outputId": "fc327edd-9610-496c-d705-7a9953ef772d"
      },
      "execution_count": 11,
      "outputs": [
        {
          "output_type": "display_data",
          "data": {
            "text/plain": [
              "<Figure size 432x288 with 2 Axes>"
            ],
            "image/png": "[encoded data removed]"
          },
          "metadata": {}
        }
      ]
    },
    {
      "cell_type": "code",
      "source": [
        "# the ROC curve\n",
        "plot_roc_curve(model)"
      ],
      "metadata": {
        "colab": {
          "base_uri": "https://localhost:8080/",
          "height": 312
        },
        "id": "7mXebMc4vB_A",
        "outputId": "d3412523-a5ba-43d2-cda7-73a100da9622"
      },
      "execution_count": 12,
      "outputs": [
        {
          "output_type": "display_data",
          "data": {
            "text/plain": [
              "<Figure size 432x288 with 1 Axes>"
            ],
            "image/png": "[encoded data removed]"
          },
          "metadata": {}
        }
      ]
    },
    {
      "cell_type": "code",
      "source": [
        "# save a 'C++' version of the trained model\n",
        "serialize_to_torchscript(model, 'model_cpp.pt') "
      ],
      "metadata": {
        "id": "gFAfm19EuT-j"
      },
      "execution_count": 18,
      "outputs": []
    },
    {
      "cell_type": "code",
      "source": [
        ""
      ],
      "metadata": {
        "id": "rTka7_bUupHF"
      },
      "execution_count": null,
      "outputs": []
    }
  ]
}