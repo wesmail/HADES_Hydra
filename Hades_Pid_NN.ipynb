{
  "nbformat": 4,
  "nbformat_minor": 0,
  "metadata": {
    "colab": {
      "name": "Hades_Pid_NN.ipynb",
      "provenance": [],
      "authorship_tag": "ABX9TyPDs+67xrt/fkdvyxF+L1pn",
      "include_colab_link": true
    },
    "kernelspec": {
      "name": "python3",
      "display_name": "Python 3"
    },
    "language_info": {
      "name": "python"
    },
    "accelerator": "GPU"
  },
  "cells": [
    {
      "cell_type": "markdown",
      "metadata": {
        "id": "view-in-github",
        "colab_type": "text"
      },
      "source": [
        "<a href=\"https://colab.research.google.com/github/wesmail/HADES_Hydra/blob/pid/Hades_Pid_NN.ipynb\" target=\"_parent\"><img src=\"https://colab.research.google.com/assets/colab-badge.svg\" alt=\"Open In Colab\"/></a>"
      ]
    },
    {
      "cell_type": "code",
      "source": [
        "!pip install torch==1.2.0 torchvision==0.4.0"
      ],
      "metadata": {
        "colab": {
          "base_uri": "https://localhost:8080/"
        },
        "id": "QSlm7oYMHt6w",
        "outputId": "1c4763a8-3ed2-4fe7-f130-e70374538b03"
      },
      "execution_count": 1,
      "outputs": [
        {
          "output_type": "stream",
          "name": "stdout",
          "text": [
            "Collecting torch==1.2.0\n",
            "  Downloading torch-1.2.0-cp37-cp37m-manylinux1_x86_64.whl (748.9 MB)\n",
            "\u001b[K     |████████████████████████████████| 748.9 MB 657 bytes/s \n",
            "\u001b[?25hCollecting torchvision==0.4.0\n",
            "  Downloading torchvision-0.4.0-cp37-cp37m-manylinux1_x86_64.whl (8.8 MB)\n",
            "\u001b[K     |████████████████████████████████| 8.8 MB 12.5 MB/s \n",
            "\u001b[?25hRequirement already satisfied: numpy in /usr/local/lib/python3.7/dist-packages (from torch==1.2.0) (1.21.5)\n",
            "Requirement already satisfied: six in /usr/local/lib/python3.7/dist-packages (from torchvision==0.4.0) (1.15.0)\n",
            "Requirement already satisfied: pillow>=4.1.1 in /usr/local/lib/python3.7/dist-packages (from torchvision==0.4.0) (7.1.2)\n",
            "Installing collected packages: torch, torchvision\n",
            "  Attempting uninstall: torch\n",
            "    Found existing installation: torch 1.10.0+cu111\n",
            "    Uninstalling torch-1.10.0+cu111:\n",
            "      Successfully uninstalled torch-1.10.0+cu111\n",
            "  Attempting uninstall: torchvision\n",
            "    Found existing installation: torchvision 0.11.1+cu111\n",
            "    Uninstalling torchvision-0.11.1+cu111:\n",
            "      Successfully uninstalled torchvision-0.11.1+cu111\n",
            "\u001b[31mERROR: pip's dependency resolver does not currently take into account all the packages that are installed. This behaviour is the source of the following dependency conflicts.\n",
            "torchtext 0.11.0 requires torch==1.10.0, but you have torch 1.2.0 which is incompatible.\n",
            "torchaudio 0.10.0+cu111 requires torch==1.10.0, but you have torch 1.2.0 which is incompatible.\u001b[0m\n",
            "Successfully installed torch-1.2.0 torchvision-0.4.0\n"
          ]
        }
      ]
    },
    {
      "cell_type": "code",
      "execution_count": 2,
      "metadata": {
        "id": "kXsVLisQuk24"
      },
      "outputs": [],
      "source": [
        "import torch\n",
        "import torch.nn.functional as F\n",
        "import numpy as np\n",
        "import pandas as pd\n",
        "import seaborn as sns\n",
        "import matplotlib.pyplot as plt\n",
        "from torch.utils.data import Dataset, DataLoader\n",
        "from sklearn.metrics import confusion_matrix\n",
        "from sklearn.metrics import roc_curve, auc\n",
        "from sklearn.preprocessing import label_binarize"
      ]
    },
    {
      "cell_type": "code",
      "source": [
        "device = torch.device('cuda:0' if torch.cuda.is_available() else 'cpu')\n",
        "print (device)"
      ],
      "metadata": {
        "colab": {
          "base_uri": "https://localhost:8080/"
        },
        "id": "7SoSCEq2vRQD",
        "outputId": "1d22e96f-9445-4217-954d-0efc70371407"
      },
      "execution_count": 3,
      "outputs": [
        {
          "output_type": "stream",
          "name": "stdout",
          "text": [
            "cuda:0\n"
          ]
        }
      ]
    },
    {
      "cell_type": "code",
      "source": [
        "class PidDataSet(Dataset):\n",
        "    '''\n",
        "    Create Hades Pid Dataset\n",
        "    '''\n",
        "    def __init__(self, directory, key='simu'):\n",
        "        '''\n",
        "        Parameters:\n",
        "        directory (str): path where the csv is stored\n",
        "        start     (int): start event to read\n",
        "        end       (int): last event to read  \n",
        "        '''        \n",
        "        self.__path        = directory\n",
        "        self.__key         = key\n",
        "        self.__events      = self.__load_events()\n",
        "        self.__X, self.__y = self.__items()\n",
        "    \n",
        "    def __load_events(self, verbose=False):\n",
        "        '''\n",
        "        Returns:\n",
        "        list: Returning a list of dataframes        \n",
        "        '''\n",
        "        return pd.read_csv(self.__path, compression='zip')\n",
        "\n",
        "    def __len__(self):\n",
        "        return len(self.__X)\n",
        "    \n",
        "    def __items(self):\n",
        "        df = self.__events\n",
        "        X  = None\n",
        "        y  = None\n",
        "        if self.__key == 'simu':            \n",
        "            data = df[['momentum','theta','phi','mdcdedx','tofdedx','distmeta','rectof','pid']].to_numpy()\n",
        "            X, y = data[:,0:-1], data[:,-1]\n",
        "            \n",
        "        elif self.__key == 'data':\n",
        "            data = df[['momentum','theta','phi','mdcdedx','tofdedx','distmeta','rectof']].to_numpy()\n",
        "            X, y = data, data\n",
        "            \n",
        "        return X, y\n",
        "\n",
        "    \n",
        "    def __getitem__(self, idx):       \n",
        "        return torch.FloatTensor(self.__X[idx]), torch.FloatTensor([self.__y[idx]])\n",
        "    \n",
        "    def getX(self):\n",
        "        return self.__X\n",
        "    \n",
        "    def gety(self):\n",
        "        return self.__y   \n",
        "    \n",
        "    def get(self):\n",
        "        '''\n",
        "        Get the event list.\n",
        "        '''\n",
        "        return self.__events        "
      ],
      "metadata": {
        "id": "J-V89Fj0xqZJ"
      },
      "execution_count": 5,
      "outputs": []
    },
    {
      "cell_type": "code",
      "source": [
        "path = 'https://raw.githubusercontent.com/wesmail/HADES_Hydra/pid/Files/'"
      ],
      "metadata": {
        "id": "eE8jONDUrbvB"
      },
      "execution_count": 6,
      "outputs": []
    },
    {
      "cell_type": "code",
      "source": [
        "# create data object for real data and simulations\n",
        "simu = PidDataSet(path+'simulations.csv', key='simu')\n",
        "data = PidDataSet(path+'data.csv', key='data')"
      ],
      "metadata": {
        "id": "3S6qJBcwrkhn"
      },
      "execution_count": 7,
      "outputs": []
    },
    {
      "cell_type": "code",
      "source": [
        "# batch_size\n",
        "batch_size = int(2*1024)\n",
        "\n",
        "# create mini-batches of data\n",
        "simuloader = DataLoader(simu, batch_size=batch_size, shuffle=True, drop_last=True)\n",
        "dataloader = DataLoader(data, batch_size=batch_size, shuffle=True, drop_last=True)"
      ],
      "metadata": {
        "id": "KmAsLpdIrsV0"
      },
      "execution_count": 8,
      "outputs": []
    },
    {
      "cell_type": "code",
      "source": [
        "# Auto-encoder model\n",
        "class Model(torch.nn.Module):\n",
        "    def __init__(self, dim=7, hidden_size=512, activation=torch.nn.Tanh, dorpout=0.5, n_classes=3):\n",
        "        super(Model, self).__init__()\n",
        "        self.encoder = torch.nn.Sequential(torch.nn.Linear(dim, hidden_size),\n",
        "                                     activation(),\n",
        "                                     torch.nn.Dropout(p=dorpout),\n",
        "                                     torch.nn.Linear(hidden_size, hidden_size//2),\n",
        "                                     activation(),\n",
        "                                     torch.nn.Dropout(p=dorpout),\n",
        "                                     torch.nn.Linear(hidden_size//2, hidden_size//4),\n",
        "                                     activation())\n",
        "        \n",
        "        self.decoder = torch.nn.Sequential(torch.nn.Linear(hidden_size//4, hidden_size//2),\n",
        "                                     activation(),\n",
        "                                     torch.nn.Dropout(p=dorpout),\n",
        "                                     torch.nn.Linear(hidden_size//2, hidden_size),\n",
        "                                     activation(),\n",
        "                                     torch.nn.Dropout(p=dorpout),                                     \n",
        "                                     torch.nn.Linear(hidden_size, dim))        \n",
        "        \n",
        "        self.output = torch.nn.Linear(hidden_size//4, n_classes)\n",
        "\n",
        "    def forward(self, x_data, x_simu):\n",
        "        hidden1 = self.encoder(x_data)\n",
        "        hidden2 = self.encoder(x_simu)\n",
        "        \n",
        "        output1 = self.decoder(hidden1) # real data\n",
        "        output2 = self.output(hidden2)  # simulations\n",
        "\n",
        "        return output1, F.log_softmax(output2, dim=1)\n",
        "\n",
        "    \n",
        "net = Model().to(device)\n",
        "print(net)    "
      ],
      "metadata": {
        "colab": {
          "base_uri": "https://localhost:8080/"
        },
        "id": "DpYxx0xUrsYk",
        "outputId": "c3fe08dd-d260-41ba-c4be-4c6f5feee5c9"
      },
      "execution_count": 9,
      "outputs": [
        {
          "output_type": "stream",
          "name": "stdout",
          "text": [
            "Model(\n",
            "  (encoder): Sequential(\n",
            "    (0): Linear(in_features=7, out_features=512, bias=True)\n",
            "    (1): Tanh()\n",
            "    (2): Dropout(p=0.5, inplace=False)\n",
            "    (3): Linear(in_features=512, out_features=256, bias=True)\n",
            "    (4): Tanh()\n",
            "    (5): Dropout(p=0.5, inplace=False)\n",
            "    (6): Linear(in_features=256, out_features=128, bias=True)\n",
            "    (7): Tanh()\n",
            "  )\n",
            "  (decoder): Sequential(\n",
            "    (0): Linear(in_features=128, out_features=256, bias=True)\n",
            "    (1): Tanh()\n",
            "    (2): Dropout(p=0.5, inplace=False)\n",
            "    (3): Linear(in_features=256, out_features=512, bias=True)\n",
            "    (4): Tanh()\n",
            "    (5): Dropout(p=0.5, inplace=False)\n",
            "    (6): Linear(in_features=512, out_features=7, bias=True)\n",
            "  )\n",
            "  (output): Linear(in_features=128, out_features=3, bias=True)\n",
            ")\n"
          ]
        }
      ]
    },
    {
      "cell_type": "code",
      "source": [
        "# learning rate\n",
        "lr = 1e-3\n",
        "# number of iterations\n",
        "kEpochs = 10\n",
        "# create an optimizer\n",
        "optimizer = torch.optim.Adam(net.parameters(), lr=lr)\n",
        "mse = torch.nn.MSELoss()\n",
        "cross_entropy = torch.nn.CrossEntropyLoss()\n",
        "\n",
        "# run the main training loop\n",
        "total_step = len(simuloader)\n",
        "for epoch in range(kEpochs):\n",
        "    correct = 0\n",
        "    total   = 0\n",
        "    for (i_batch, (X_simu, y_simu)), (_, (X_data, y_data)) in zip(enumerate(simuloader), enumerate(dataloader)):\n",
        "        X_simu = X_simu.to(device)\n",
        "        X_data = X_data.to(device)\n",
        "        \n",
        "        y_simu = y_simu.view(-1).long().to(device) # simulations labels (pi+:0, p:1, K+:2)\n",
        "\n",
        "        optimizer.zero_grad()\n",
        "        out_data, out_simu = net.forward(X_data, X_simu)\n",
        "        l_simu = cross_entropy(out_simu, y_simu) # labeled data loss (simulations)\n",
        "        l_data = mse(out_data, X_data)           # unlabeled data loss (real data)\n",
        "        \n",
        "        loss   = l_simu + l_data                 # add both losses\n",
        "        loss.backward()\n",
        "        optimizer.step()\n",
        "\n",
        "        correct = (torch.max(torch.exp(out_simu),1)[1]==y_simu).int().sum().item()/batch_size\n",
        "\n",
        "        if (i_batch+1) % 10 == 0:\n",
        "            print ('Epoch [{}/{}], Step [{}/{}], Loss: {:.4f}, Acc: {:.4f}'\\\n",
        "                   .format(epoch+1, kEpochs, i_batch+1, total_step, loss.item(), correct))"
      ],
      "metadata": {
        "colab": {
          "base_uri": "https://localhost:8080/"
        },
        "id": "PJhQO1cjtHLi",
        "outputId": "6d9a453f-6b82-498e-ce42-c699bf2a0d80"
      },
      "execution_count": 10,
      "outputs": [
        {
          "output_type": "stream",
          "name": "stdout",
          "text": [
            "Epoch [1/10], Step [10/48], Loss: 116.0832, Acc: 0.3408\n",
            "Epoch [1/10], Step [20/48], Loss: 122.4378, Acc: 0.3301\n",
            "Epoch [1/10], Step [30/48], Loss: 100.5130, Acc: 0.3257\n",
            "Epoch [1/10], Step [40/48], Loss: 202.7809, Acc: 0.3550\n",
            "Epoch [2/10], Step [10/48], Loss: 194.9000, Acc: 0.3506\n",
            "Epoch [2/10], Step [20/48], Loss: 118.6077, Acc: 0.3496\n",
            "Epoch [2/10], Step [30/48], Loss: 125.4563, Acc: 0.3354\n",
            "Epoch [2/10], Step [40/48], Loss: 131.5827, Acc: 0.3569\n",
            "Epoch [3/10], Step [10/48], Loss: 115.8654, Acc: 0.3774\n",
            "Epoch [3/10], Step [20/48], Loss: 137.8528, Acc: 0.3911\n",
            "Epoch [3/10], Step [30/48], Loss: 108.8680, Acc: 0.4023\n",
            "Epoch [3/10], Step [40/48], Loss: 99.2952, Acc: 0.4551\n",
            "Epoch [4/10], Step [10/48], Loss: 118.9980, Acc: 0.5718\n",
            "Epoch [4/10], Step [20/48], Loss: 110.2869, Acc: 0.6304\n",
            "Epoch [4/10], Step [30/48], Loss: 114.7042, Acc: 0.6694\n",
            "Epoch [4/10], Step [40/48], Loss: 203.4841, Acc: 0.6963\n",
            "Epoch [5/10], Step [10/48], Loss: 110.6917, Acc: 0.5659\n",
            "Epoch [5/10], Step [20/48], Loss: 144.2132, Acc: 0.5454\n",
            "Epoch [5/10], Step [30/48], Loss: 116.3716, Acc: 0.5742\n",
            "Epoch [5/10], Step [40/48], Loss: 125.5423, Acc: 0.5811\n",
            "Epoch [6/10], Step [10/48], Loss: 164.9148, Acc: 0.5620\n",
            "Epoch [6/10], Step [20/48], Loss: 90.5187, Acc: 0.6138\n",
            "Epoch [6/10], Step [30/48], Loss: 305.1753, Acc: 0.6021\n",
            "Epoch [6/10], Step [40/48], Loss: 97.7103, Acc: 0.5991\n",
            "Epoch [7/10], Step [10/48], Loss: 87.8053, Acc: 0.6221\n",
            "Epoch [7/10], Step [20/48], Loss: 117.8964, Acc: 0.6108\n",
            "Epoch [7/10], Step [30/48], Loss: 41.8804, Acc: 0.6294\n",
            "Epoch [7/10], Step [40/48], Loss: 45.3431, Acc: 0.6479\n",
            "Epoch [8/10], Step [10/48], Loss: 60.5860, Acc: 0.6641\n",
            "Epoch [8/10], Step [20/48], Loss: 167.3759, Acc: 0.6802\n",
            "Epoch [8/10], Step [30/48], Loss: 110.2178, Acc: 0.6768\n",
            "Epoch [8/10], Step [40/48], Loss: 302.6226, Acc: 0.6860\n",
            "Epoch [9/10], Step [10/48], Loss: 96.3399, Acc: 0.6821\n",
            "Epoch [9/10], Step [20/48], Loss: 90.7390, Acc: 0.6831\n",
            "Epoch [9/10], Step [30/48], Loss: 96.9596, Acc: 0.7319\n",
            "Epoch [9/10], Step [40/48], Loss: 25.2631, Acc: 0.7188\n",
            "Epoch [10/10], Step [10/48], Loss: 49.3061, Acc: 0.7144\n",
            "Epoch [10/10], Step [20/48], Loss: 29.6234, Acc: 0.7178\n",
            "Epoch [10/10], Step [30/48], Loss: 17.6071, Acc: 0.7085\n",
            "Epoch [10/10], Step [40/48], Loss: 31.5377, Acc: 0.7227\n"
          ]
        }
      ]
    },
    {
      "cell_type": "code",
      "source": [
        "# testing phase\n",
        "model = net.cpu()\n",
        "model.eval()"
      ],
      "metadata": {
        "colab": {
          "base_uri": "https://localhost:8080/"
        },
        "id": "9VBOc8TWuL-Z",
        "outputId": "53f58cda-3571-423f-e722-7cd6ff70d507"
      },
      "execution_count": 11,
      "outputs": [
        {
          "output_type": "execute_result",
          "data": {
            "text/plain": [
              "Model(\n",
              "  (encoder): Sequential(\n",
              "    (0): Linear(in_features=7, out_features=512, bias=True)\n",
              "    (1): Tanh()\n",
              "    (2): Dropout(p=0.5, inplace=False)\n",
              "    (3): Linear(in_features=512, out_features=256, bias=True)\n",
              "    (4): Tanh()\n",
              "    (5): Dropout(p=0.5, inplace=False)\n",
              "    (6): Linear(in_features=256, out_features=128, bias=True)\n",
              "    (7): Tanh()\n",
              "  )\n",
              "  (decoder): Sequential(\n",
              "    (0): Linear(in_features=128, out_features=256, bias=True)\n",
              "    (1): Tanh()\n",
              "    (2): Dropout(p=0.5, inplace=False)\n",
              "    (3): Linear(in_features=256, out_features=512, bias=True)\n",
              "    (4): Tanh()\n",
              "    (5): Dropout(p=0.5, inplace=False)\n",
              "    (6): Linear(in_features=512, out_features=7, bias=True)\n",
              "  )\n",
              "  (output): Linear(in_features=128, out_features=3, bias=True)\n",
              ")"
            ]
          },
          "metadata": {},
          "execution_count": 11
        }
      ]
    },
    {
      "cell_type": "code",
      "source": [
        "def plot_confusion_matrix(model):\n",
        "    '''\n",
        "    function to plot the confusion matrix\n",
        "    '''\n",
        "    # quick and dirty check\n",
        "    X, ytrue = next(iter(simuloader))\n",
        "    ytrue = ytrue.view(-1).detach().cpu().numpy()\n",
        "    # make predictions 'yhat'\n",
        "    _, yhat = model.forward(X,X)\n",
        "    # select the largest output\n",
        "    yhat = (torch.max(torch.exp(yhat),1))[1].detach().cpu().numpy()\n",
        "    \n",
        "    # calculate the confusion matrix\n",
        "    cm = confusion_matrix(ytrue, yhat)\n",
        "    cm = (cm.astype('float') / cm.sum(axis=1))\n",
        "    \n",
        "    # plot the confusion matrix as a heatmap\n",
        "    sns.set(font_scale=1.5)\n",
        "    sns.heatmap(cm, square=True, annot=True, annot_kws={\"size\": 15}, cmap='Blues')\n",
        "    classes=['$\\pi^{+}$', '$p$', '$K^{+}$']\n",
        "    plt.xticks(np.arange(len(classes))+0.5, ('$\\pi^{+}$', '$p$', '$K^{+}$'),rotation=45)\n",
        "    plt.yticks(np.arange(len(classes))+0.5, ('$\\pi^{+}$', '$p$', '$K^{+}$'),rotation=45)\n",
        "    plt.xlabel('Predication', horizontalalignment = 'center',  fontsize=15)\n",
        "    plt.ylabel('True Species',  fontsize=15)\n",
        "    plt.tight_layout()\n",
        "\n",
        "def enable_dropout(m):\n",
        "    '''\n",
        "    enable dropout during inference\n",
        "    '''\n",
        "    for each_module in m.modules():\n",
        "        if each_module.__class__.__name__.startswith('Dropout'):\n",
        "            each_module.train()\n",
        "            \n",
        "def serialize_to_torchscript(network, name='model_cpp.pt'):\n",
        "    '''\n",
        "    save the trained model as a\n",
        "    torchscript model to load in\n",
        "    a C++ enviroment\n",
        "    '''\n",
        "    model = network.cpu()\n",
        "    model.eval()\n",
        "    #enable_dropout(model)\n",
        "    X, _ = next(iter(simuloader))\n",
        "    # run the tracing\n",
        "    traced_script_module = torch.jit.trace(model, (X, X))\n",
        "    # save the converted model\n",
        "    traced_script_module.save(name)\n",
        "\n",
        "def plot_roc_curve(model):\n",
        "    '''\n",
        "    function to plot the ROC curve\n",
        "    '''\n",
        "    # quick and dirty\n",
        "    X, ytrue = next(iter(simuloader))\n",
        "    _, yhat = model(X, X)\n",
        "    yhat = torch.exp(yhat).detach().numpy()\n",
        "    ytrue = label_binarize(ytrue, classes=[0, 1, 2])\n",
        "    n_classes = ytrue.shape[1]\n",
        "    \n",
        "    lw=2\n",
        "    fpr = dict()\n",
        "    tpr = dict()\n",
        "    roc_auc = dict()\n",
        "    for i in range(n_classes):\n",
        "        fpr[i], tpr[i], _ = roc_curve(ytrue[:, i], yhat[:, i])\n",
        "        roc_auc[i] = auc(fpr[i], tpr[i])\n",
        "        \n",
        "    plt.plot(fpr[1], tpr[1], color='yellowgreen', lw=lw, label='AUC for {0}   ( = {1:0.2f})'.format('$p$',roc_auc[1]))\n",
        "    plt.plot(fpr[0], tpr[0], color='blue', lw=lw, label='AUC for {0} ( = {1:0.2f})'.format('$\\pi^{+}$',roc_auc[0]))\n",
        "    plt.plot(fpr[2], tpr[2], color='red', lw=lw, label='AUC for {0} ( = {1:0.2f})'.format('$K^{+}$',roc_auc[2]))\n",
        "\n",
        "    plt.xlim([0.0, 0.5])\n",
        "    plt.ylim([0.5, 1.0])\n",
        "    plt.xlabel('False Positive Rate', fontsize=15)\n",
        "    plt.ylabel('True Positive Rate', fontsize=15)\n",
        "    plt.title('Receiver Operating Characteristic (ROC)')\n",
        "    plt.legend(loc='lower right', fontsize=15) \n",
        "    plt.xticks(fontsize=15)\n",
        "    plt.yticks(fontsize=15)\n",
        "    \n",
        "    plt.show()       "
      ],
      "metadata": {
        "id": "6FeLIi3ttnj6"
      },
      "execution_count": 12,
      "outputs": []
    },
    {
      "cell_type": "code",
      "source": [
        "# the confusion matrix\n",
        "plot_confusion_matrix(model)"
      ],
      "metadata": {
        "colab": {
          "base_uri": "https://localhost:8080/",
          "height": 280
        },
        "id": "u1ivB_5-uhfg",
        "outputId": "4fb17fbf-1664-46fb-cc7e-b6588807e3cd"
      },
      "execution_count": 13,
      "outputs": [
        {
          "output_type": "display_data",
          "data": {
            "text/plain": [
              "<Figure size 432x288 with 2 Axes>"
            ],
            "image/png": "[encoded data removed]"
          },
          "metadata": {}
        }
      ]
    },
    {
      "cell_type": "code",
      "source": [
        "# the ROC curve\n",
        "plot_roc_curve(model)"
      ],
      "metadata": {
        "colab": {
          "base_uri": "https://localhost:8080/",
          "height": 312
        },
        "id": "7mXebMc4vB_A",
        "outputId": "8f60d1f4-8ce4-43e4-f305-f5a5b9ef8b4e"
      },
      "execution_count": 14,
      "outputs": [
        {
          "output_type": "display_data",
          "data": {
            "text/plain": [
              "<Figure size 432x288 with 1 Axes>"
            ],
            "image/png": "[encoded data removed]"
          },
          "metadata": {}
        }
      ]
    },
    {
      "cell_type": "code",
      "source": [
        "# save a 'C++' version of the trained model\n",
        "serialize_to_torchscript(model, 'model_cpp.pt') "
      ],
      "metadata": {
        "id": "gFAfm19EuT-j"
      },
      "execution_count": 15,
      "outputs": []
    },
    {
      "cell_type": "code",
      "source": [
        "!pwd"
      ],
      "metadata": {
        "colab": {
          "base_uri": "https://localhost:8080/"
        },
        "id": "rTka7_bUupHF",
        "outputId": "f4a16f34-0555-4ca6-a4ad-bc09a793b7c5"
      },
      "execution_count": 17,
      "outputs": [
        {
          "output_type": "stream",
          "name": "stdout",
          "text": [
            "/content\n"
          ]
        }
      ]
    },
    {
      "cell_type": "code",
      "source": [
        ""
      ],
      "metadata": {
        "id": "3_hMjJXNIk38"
      },
      "execution_count": null,
      "outputs": []
    }
  ]
}